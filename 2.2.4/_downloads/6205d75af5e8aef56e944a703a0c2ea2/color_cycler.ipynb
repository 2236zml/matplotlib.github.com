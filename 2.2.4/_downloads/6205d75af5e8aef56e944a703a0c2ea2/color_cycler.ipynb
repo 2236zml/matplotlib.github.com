{
  "cells": [
    {
      "cell_type": "code",
      "execution_count": null,
      "metadata": {
        "collapsed": false
      },
      "outputs": [],
      "source": [
        "%matplotlib inline"
      ]
    },
    {
      "cell_type": "markdown",
      "metadata": {},
      "source": [
        "\n# Styling with cycler\n\n\nDemo of custom property-cycle settings to control colors and other style\nproperties for multi-line plots.\n\nThis example demonstrates two different APIs:\n\n    1. Setting the default\n       `rc parameter<sphx_glr_tutorials_introductory_customizing.py>`\n       specifying the property cycle. This affects all subsequent axes\n       (but not axes already created).\n    2. Setting the property cycle for a single pair of axes.\n\n"
      ]
    },
    {
      "cell_type": "code",
      "execution_count": null,
      "metadata": {
        "collapsed": false
      },
      "outputs": [],
      "source": [
        "from cycler import cycler\nimport numpy as np\nimport matplotlib.pyplot as plt\n\n\nx = np.linspace(0, 2 * np.pi)\noffsets = np.linspace(0, 2*np.pi, 4, endpoint=False)\n# Create array with shifted-sine curve along each column\nyy = np.transpose([np.sin(x + phi) for phi in offsets])\n\n# 1. Setting prop cycle on default rc parameter\nplt.rc('lines', linewidth=4)\nplt.rc('axes', prop_cycle=(cycler(color=['r', 'g', 'b', 'y']) +\n                           cycler(linestyle=['-', '--', ':', '-.'])))\nfig, (ax0, ax1) = plt.subplots(nrows=2)\nax0.plot(yy)\nax0.set_title('Set default color cycle to rgby')\n\n# 2. Define prop cycle for single set of axes\n#    For the most general use-case, you can provide a cycler to\n#    `.set_prop_cycle`.\n#    Here, we use the convenient shortcut that we can alternatively pass\n#    one or more properties as keyword arguements. This creates and sets\n#    a cycler iterating simultaneously over all properties.\nax1.set_prop_cycle(color=['c', 'm', 'y', 'k'], lw=[1, 2, 3, 4])\nax1.plot(yy)\nax1.set_title('Set axes color cycle to cmyk')\n\n# Tweak spacing between subplots to prevent labels from overlapping\nfig.subplots_adjust(hspace=0.3)\nplt.show()"
      ]
    },
    {
      "cell_type": "markdown",
      "metadata": {},
      "source": [
        "------------\n\nReferences\n\"\"\"\"\"\"\"\"\"\"\n\nThe use of the following functions, methods, classes and modules is shown\nin this example:\n\n"
      ]
    },
    {
      "cell_type": "code",
      "execution_count": null,
      "metadata": {
        "collapsed": false
      },
      "outputs": [],
      "source": [
        "import matplotlib\nmatplotlib.axes.Axes.plot\nmatplotlib.axes.Axes.set_prop_cycle"
      ]
    }
  ],
  "metadata": {
    "kernelspec": {
      "display_name": "Python 3",
      "language": "python",
      "name": "python3"
    },
    "language_info": {
      "codemirror_mode": {
        "name": "ipython",
        "version": 3
      },
      "file_extension": ".py",
      "mimetype": "text/x-python",
      "name": "python",
      "nbconvert_exporter": "python",
      "pygments_lexer": "ipython3",
      "version": "3.7.2"
    }
  },
  "nbformat": 4,
  "nbformat_minor": 0
}