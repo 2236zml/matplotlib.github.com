{
  "cells": [
    {
      "cell_type": "code",
      "execution_count": null,
      "metadata": {
        "collapsed": false
      },
      "outputs": [],
      "source": [
        "%matplotlib inline"
      ]
    },
    {
      "cell_type": "markdown",
      "metadata": {},
      "source": [
        "\n# Grouped bar chart with labels\n\n\nBar charts are useful for visualizing counts, or summary statistics\nwith error bars. This example shows a ways to create a grouped bar chart\nwith Matplotlib and also how to annotate bars with labels.\n"
      ]
    },
    {
      "cell_type": "code",
      "execution_count": null,
      "metadata": {
        "collapsed": false
      },
      "outputs": [],
      "source": [
        "import matplotlib\nimport matplotlib.pyplot as plt\nimport numpy as np\n\n\nmen_means, men_std = (20, 35, 30, 35, 27), (2, 3, 4, 1, 2)\nwomen_means, women_std = (25, 32, 34, 20, 25), (3, 5, 2, 3, 3)\n\nind = np.arange(len(men_means))  # the x locations for the groups\nwidth = 0.35  # the width of the bars\n\nfig, ax = plt.subplots()\nrects1 = ax.bar(ind - width/2, men_means, width, yerr=men_std,\n                label='Men')\nrects2 = ax.bar(ind + width/2, women_means, width, yerr=women_std,\n                label='Women')\n\n# Add some text for labels, title and custom x-axis tick labels, etc.\nax.set_ylabel('Scores')\nax.set_title('Scores by group and gender')\nax.set_xticks(ind)\nax.set_xticklabels(('G1', 'G2', 'G3', 'G4', 'G5'))\nax.legend()\n\n\ndef autolabel(rects, xpos='center'):\n    \"\"\"\n    Attach a text label above each bar in *rects*, displaying its height.\n\n    *xpos* indicates which side to place the text w.r.t. the center of\n    the bar. It can be one of the following {'center', 'right', 'left'}.\n    \"\"\"\n\n    ha = {'center': 'center', 'right': 'left', 'left': 'right'}\n    offset = {'center': 0, 'right': 1, 'left': -1}\n\n    for rect in rects:\n        height = rect.get_height()\n        ax.annotate('{}'.format(height),\n                    xy=(rect.get_x() + rect.get_width() / 2, height),\n                    xytext=(offset[xpos]*3, 3),  # use 3 points offset\n                    textcoords=\"offset points\",  # in both directions\n                    ha=ha[xpos], va='bottom')\n\n\nautolabel(rects1, \"left\")\nautolabel(rects2, \"right\")\n\nfig.tight_layout()\n\nplt.show()"
      ]
    },
    {
      "cell_type": "markdown",
      "metadata": {},
      "source": [
        "------------\n\nReferences\n\"\"\"\"\"\"\"\"\"\"\n\nThe use of the following functions, methods and classes is shown\nin this example:\n\n"
      ]
    },
    {
      "cell_type": "code",
      "execution_count": null,
      "metadata": {
        "collapsed": false
      },
      "outputs": [],
      "source": [
        "matplotlib.axes.Axes.bar\nmatplotlib.pyplot.bar\nmatplotlib.axes.Axes.annotate\nmatplotlib.pyplot.annotate"
      ]
    }
  ],
  "metadata": {
    "kernelspec": {
      "display_name": "Python 3",
      "language": "python",
      "name": "python3"
    },
    "language_info": {
      "codemirror_mode": {
        "name": "ipython",
        "version": 3
      },
      "file_extension": ".py",
      "mimetype": "text/x-python",
      "name": "python",
      "nbconvert_exporter": "python",
      "pygments_lexer": "ipython3",
      "version": "3.7.3"
    }
  },
  "nbformat": 4,
  "nbformat_minor": 0
}